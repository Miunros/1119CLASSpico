{
 "cells": [
  {
   "cell_type": "code",
   "execution_count": 12,
   "metadata": {},
   "outputs": [
    {
     "name": "stdout",
     "output_type": "stream",
     "text": [
      "請輸入學生分數(最高300分)\n",
      "290\n",
      "學生分數是:290\n"
     ]
    }
   ],
   "source": [
    "import pyinputplus as pyip\n",
    "print(\"請輸入學生分數(最高300分)\")\n",
    "scores = pyip.inputNum(min=0,max=300)\n",
    "print(scores)\n",
    "if scores <= 300:\n",
    "        #有些學生可以加分5%\n",
    "        is_add = input(\"學生是否符合加分條件? (Y,N)\")\n",
    "        #如果加分後超過300分，就以300分計算。\n",
    "        #巢狀判斷: if內還有if; 可以增加判斷條件，最主要在解決多個條件。\n",
    "        #不用else，因為現在是單向選擇\n",
    "        if is_add ==\"Y\":\n",
    "            scores *= 1.05\n",
    "            if scores >= 300:\n",
    "                scores =300\n",
    "        print(f\"學生分數是:{scores}\")"
   ]
  }
 ],
 "metadata": {
  "kernelspec": {
   "display_name": "Python 3",
   "language": "python",
   "name": "python3"
  },
  "language_info": {
   "codemirror_mode": {
    "name": "ipython",
    "version": 3
   },
   "file_extension": ".py",
   "mimetype": "text/x-python",
   "name": "python",
   "nbconvert_exporter": "python",
   "pygments_lexer": "ipython3",
   "version": "3.10.13"
  }
 },
 "nbformat": 4,
 "nbformat_minor": 2
}
