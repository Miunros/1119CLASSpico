{
 "cells": [
  {
   "cell_type": "code",
   "execution_count": 26,
   "metadata": {},
   "outputs": [
    {
     "name": "stdout",
     "output_type": "stream",
     "text": [
      "請輸入學生分數(最高300分):'Y' is not a number.\n",
      "請輸入學生分數(最高300分):'y' is not a number.\n",
      "請輸入學生分數(最高300分):Blank values are not allowed.\n",
      "請輸入學生分數(最高300分):'n' is not a number.\n",
      "請輸入學生分數(最高300分):29\n",
      "學生是否符合加分條件? (Y,N)學生分數是:30.450000000000003\n"
     ]
    }
   ],
   "source": [
    "scores = pyip.inputNum(prompt=\"請輸入學生分數(最高300分):\", min=0,max=300)\n",
    "print(scores)\n",
    "#有些學生可以加分5%\n",
    "is_add = pyip.inputYesNo(\"學生是否符合加分條件? (Y,N)\",yesVal='y',noVal='n',blank=True, default='n')\n",
    "#如果加分後超過300分，就以300分計算。 \n",
    "# #巢狀判斷: if內還有if; 可以增加判斷條件，最主要在解決多個條件。\n",
    "# #不用else，因為現在是單向選擇\n",
    "if is_add ==\"y\":\n",
    "    scores *= 1.05\n",
    "    if scores >= 300:\n",
    "        scores =300\n",
    "print(f\"學生分數是:{scores}\")"
   ]
  },
  {
   "cell_type": "code",
   "execution_count": 30,
   "metadata": {},
   "outputs": [
    {
     "name": "stdout",
     "output_type": "stream",
     "text": [
      "請輸入學生分數(最高300分):40\n",
      "學生是否符合加分條件?(y,n)學生分數是:42.0\n"
     ]
    }
   ],
   "source": [
    "scores = pyip.inputNum(prompt='請輸入學生分數(最高300分):',min=0, max=300)\n",
    "print(scores)\n",
    "is_add = pyip.inputYesNo(\"學生是否符合加分條件?(y,n)\",yesVal='y',noVal='n',blank=True,default='n')\n",
    "#巢狀判斷\n",
    "if is_add == \"y\":\n",
    "    scores *= 1.05\n",
    "    if scores > 300:\n",
    "        scores = 300\n",
    "\n",
    "print(f\"學生分數是:{scores}\")"
   ]
  },
  {
   "cell_type": "markdown",
   "metadata": {},
   "source": [
    "請用python寫出\n",
    "請輸入學生分數(0~100):\n",
    "0~60,不及格\n",
    "60~80,及格\n",
    "80~100,優\n",
    "檢查超出範圍與格式"
   ]
  },
  {
   "cell_type": "code",
   "execution_count": 21,
   "metadata": {},
   "outputs": [
    {
     "name": "stdout",
     "output_type": "stream",
     "text": [
      "請輸入學生分數(最高分100分):'6a' is not a number.\n",
      "請輸入學生分數(最高分100分):'qq' is not a number.\n",
      "請輸入學生分數(最高分100分):55\n",
      "55分，不及格\n"
     ]
    }
   ],
   "source": [
    "import pyinputplus as pyip\n",
    "scores = pyip.inputNum(prompt=\"請輸入學生分數(最高分100分):\", min=0, max=100)\n",
    "print(scores)\n",
    "if 0 < scores <= 60:\n",
    "    print(f\"{scores}分，不及格\")\n",
    "elif 60 < scores <= 80:\n",
    "    print(f\"{scores}分，及格\")\n",
    "else:\n",
    "    print(f\"{scores}分，優\")\n",
    "\n"
   ]
  },
  {
   "cell_type": "code",
   "execution_count": 10,
   "metadata": {},
   "outputs": [
    {
     "name": "stdout",
     "output_type": "stream",
     "text": [
      "Help on function inputYesNo in module pyinputplus:\n",
      "\n",
      "inputYesNo(prompt='', yesVal='yes', noVal='no', caseSensitive=False, default=None, blank=False, timeout=None, limit=None, strip=None, allowRegexes=None, blockRegexes=None, applyFunc=None, postValidateApplyFunc=None)\n",
      "    Prompts the user to enter a yes/no response.\n",
      "    The user can also enter y/n and use any case.\n",
      "    Returns the ``yesVal`` or ``noVal`` argument (which default to ``'yes'`` and ``'no'``), depending on the user's selection.\n",
      "    \n",
      "    Run ``help(pyinputplus.parameters)`` for an explanation of the common parameters.\n",
      "    \n",
      "    >>> import pyinputplus as pyip\n",
      "    >>> response = pyip.inputYesNo()\n",
      "    yes\n",
      "    >>> response\n",
      "    'yes'\n",
      "    >>> response = pyip.inputYesNo()\n",
      "    NO\n",
      "    >>> response\n",
      "    'no'\n",
      "    >>> response = pyip.inputYesNo()\n",
      "    Y\n",
      "    >>> response\n",
      "    'yes'\n",
      "    >>> response = pyip.inputYesNo(yesVal='oui', noVal='no')\n",
      "    oui\n",
      "    >>> response\n",
      "    'oui'\n",
      "\n"
     ]
    }
   ],
   "source": [
    "#查function\n",
    "help(pyip.inputYesNo)"
   ]
  },
  {
   "cell_type": "code",
   "execution_count": 14,
   "metadata": {},
   "outputs": [
    {
     "name": "stdout",
     "output_type": "stream",
     "text": [
      "Help on function inputNum in module pyinputplus:\n",
      "\n",
      "inputNum(prompt='', default=None, blank=False, timeout=None, limit=None, strip=None, allowRegexes=None, blockRegexes=None, applyFunc=None, postValidateApplyFunc=None, min=None, max=None, greaterThan=None, lessThan=None)\n",
      "    Prompts the user to enter a number, either an integer or a floating-point\n",
      "    value. Returns an int or float value (depending on if the user entered a\n",
      "    decimal in their input.)\n",
      "    \n",
      "    Run ``help(pyinputplus.parameters)`` for an explanation of the common parameters.\n",
      "    \n",
      "    * ``min`` (None, float): If not ``None``, the minimum accepted numeric value, including the minimum argument.\n",
      "    * ``max`` (None, float): If not ``None``, the maximum accepted numeric value, including the maximum argument.\n",
      "    * ``greaterThan`` (None, float): If not ``None``, the minimum accepted numeric value, not including the ``greaterThan`` argument.\n",
      "    * ``lessThan`` (None, float): If not ``None``, the maximum accepted numeric value, not including the ``lessThan`` argument.\n",
      "    \n",
      "    >>> import pyinputplus as pyip\n",
      "    >>> response = pyip.inputNum()\n",
      "    forty two\n",
      "    'forty two' is not a number.\n",
      "    42\n",
      "    >>> response\n",
      "    42\n",
      "    >>> response = pyip.inputNum()\n",
      "    9\n",
      "    >>> type(response)\n",
      "    <class 'int'>\n",
      "    >>> response = pyip.inputNum()\n",
      "    9.0\n",
      "    >>> type(response)\n",
      "    <class 'float'>\n",
      "    >>> response = pyip.inputNum(min=4)\n",
      "    3\n",
      "    Number must be at minimum 4.\n",
      "    4\n",
      "    >>> response\n",
      "    4\n",
      "    >>> response = pyip.inputNum(greaterThan=4)\n",
      "    4\n",
      "    Number must be greater than 4.\n",
      "    4.1\n",
      "    >>> response\n",
      "    4.1\n",
      "    >>> response = pyip.inputNum(limit=2)\n",
      "    dog\n",
      "    'dog' is not a number.\n",
      "    cat\n",
      "    'cat' is not a number.\n",
      "    Traceback (most recent call last):\n",
      "        ...\n",
      "    pyinputplus.RetryLimitException\n",
      "\n"
     ]
    }
   ],
   "source": [
    "#查function\n",
    "help(pyip.inputNum)"
   ]
  }
 ],
 "metadata": {
  "kernelspec": {
   "display_name": "Python 3",
   "language": "python",
   "name": "python3"
  },
  "language_info": {
   "codemirror_mode": {
    "name": "ipython",
    "version": 3
   },
   "file_extension": ".py",
   "mimetype": "text/x-python",
   "name": "python",
   "nbconvert_exporter": "python",
   "pygments_lexer": "ipython3",
   "version": "3.10.13"
  }
 },
 "nbformat": 4,
 "nbformat_minor": 2
}
