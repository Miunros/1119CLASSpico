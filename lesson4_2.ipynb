{
 "cells": [
  {
   "cell_type": "code",
   "execution_count": 26,
   "metadata": {},
   "outputs": [
    {
     "name": "stdout",
     "output_type": "stream",
     "text": [
      "請輸入學生分數(最高300分):'Y' is not a number.\n",
      "請輸入學生分數(最高300分):'y' is not a number.\n",
      "請輸入學生分數(最高300分):Blank values are not allowed.\n",
      "請輸入學生分數(最高300分):'n' is not a number.\n",
      "請輸入學生分數(最高300分):29\n",
      "學生是否符合加分條件? (Y,N)學生分數是:30.450000000000003\n"
     ]
    }
   ],
   "source": [
    "scores = pyip.inputNum(prompt=\"請輸入學生分數(最高300分):\", min=0,max=300)\n",
    "print(scores)\n",
    "#有些學生可以加分5%\n",
    "is_add = pyip.inputYesNo(\"學生是否符合加分條件? (Y,N)\",yesVal='y',noVal='n',blank=True, default='n')\n",
    "#如果加分後超過300分，就以300分計算。 \n",
    "# #巢狀判斷: if內還有if; 可以增加判斷條件，最主要在解決多個條件。\n",
    "# #不用else，因為現在是單向選擇\n",
    "if is_add ==\"y\":\n",
    "    scores *= 1.05\n",
    "    if scores >= 300:\n",
    "        scores =300\n",
    "print(f\"學生分數是:{scores}\")"
   ]
  },
  {
   "cell_type": "code",
   "execution_count": null,
   "metadata": {},
   "outputs": [],
   "source": [
    "#查function\n",
    "help(pyip.inputYesNo)"
   ]
  },
  {
   "cell_type": "code",
   "execution_count": null,
   "metadata": {},
   "outputs": [],
   "source": [
    "#查function\n",
    "help(pyip.inputNum)"
   ]
  }
 ],
 "metadata": {
  "kernelspec": {
   "display_name": "Python 3",
   "language": "python",
   "name": "python3"
  },
  "language_info": {
   "codemirror_mode": {
    "name": "ipython",
    "version": 3
   },
   "file_extension": ".py",
   "mimetype": "text/x-python",
   "name": "python",
   "nbconvert_exporter": "python",
   "pygments_lexer": "ipython3",
   "version": "3.10.13"
  }
 },
 "nbformat": 4,
 "nbformat_minor": 2
}
