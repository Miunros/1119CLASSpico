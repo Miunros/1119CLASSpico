{
 "cells": [
  {
   "cell_type": "code",
   "execution_count": 3,
   "metadata": {},
   "outputs": [
    {
     "name": "stdout",
     "output_type": "stream",
     "text": [
      "1..10的總合是:55\n"
     ]
    }
   ],
   "source": [
    "#迴圈指的是在控制流程\n",
    "#1加到10的總合\n",
    "\n",
    "value = 0\n",
    "value += 1\n",
    "value += 2\n",
    "value += 3\n",
    "value += 4\n",
    "value += 5\n",
    "value += 6\n",
    "value += 7\n",
    "value += 8\n",
    "value += 9\n",
    "value += 10\n",
    "\n",
    "print(f\"1..10的總合是:{value}\")"
   ]
  },
  {
   "cell_type": "code",
   "execution_count": 4,
   "metadata": {},
   "outputs": [
    {
     "name": "stdout",
     "output_type": "stream",
     "text": [
      "1加到1000的總和：500500\n"
     ]
    }
   ],
   "source": [
    "#class range(start, stop[, step])\n",
    "value = 0\n",
    "for i in range(1,1001):\n",
    "    value += i\n",
    "print(f\"1加到1000的總和：{value}\")"
   ]
  },
  {
   "cell_type": "code",
   "execution_count": 7,
   "metadata": {},
   "outputs": [
    {
     "name": "stdout",
     "output_type": "stream",
     "text": [
      "加總為:30\n"
     ]
    }
   ],
   "source": [
    "#1-10間偶數的總和\n",
    "ans=0\n",
    "for list in range(0,11,2):\n",
    "    ans += list\n",
    "print(f\"加總為:{ans}\")"
   ]
  },
  {
   "cell_type": "code",
   "execution_count": 17,
   "metadata": {},
   "outputs": [
    {
     "name": "stdout",
     "output_type": "stream",
     "text": [
      "請輸入起始值:1\n",
      "請輸入末值:2\n",
      "1至2的總合為:3\n"
     ]
    }
   ],
   "source": [
    "#指定區間內的數字加總\n",
    "import pyinputplus as pyip\n",
    "start= pyip.inputInt(\"請輸入起始值:\", min=0, max=1000000)\n",
    "print(start)\n",
    "end = pyip.inputInt(\"請輸入末值:\", min=1, max=1000000)\n",
    "print(end)\n",
    "ans = 0\n",
    "for i in range(start, end+1):\n",
    "    ans += i\n",
    "print(f\"{start}至{end}的總合為:{ans}\")"
   ]
  }
 ],
 "metadata": {
  "kernelspec": {
   "display_name": "Python 3",
   "language": "python",
   "name": "python3"
  },
  "language_info": {
   "codemirror_mode": {
    "name": "ipython",
    "version": 3
   },
   "file_extension": ".py",
   "mimetype": "text/x-python",
   "name": "python",
   "nbconvert_exporter": "python",
   "pygments_lexer": "ipython3",
   "version": "2.7.0"
  }
 },
 "nbformat": 4,
 "nbformat_minor": 2
}
