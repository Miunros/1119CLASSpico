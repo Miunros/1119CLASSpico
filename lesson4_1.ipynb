{
 "cells": [
  {
   "cell_type": "code",
   "execution_count": 1,
   "metadata": {},
   "outputs": [
    {
     "name": "stdout",
     "output_type": "stream",
     "text": [
      "學生分數是:105.0\n"
     ]
    }
   ],
   "source": [
    "#學生總分為300\n",
    "scores = int(input(\"請輸入學生分數(最高分300分):\"))\n",
    "#有些學生可以加分5%\n",
    "is_add = input(\"學生是否符合加分條件? (Y,N)\")\n",
    "if is_add ==\"Y\":\n",
    "    scores *= 1.05\n",
    "#不用else，因為現在是單向選擇\n",
    "print(f\"學生分數是:{scores}\")"
   ]
  },
  {
   "cell_type": "code",
   "execution_count": 3,
   "metadata": {},
   "outputs": [
    {
     "name": "stdout",
     "output_type": "stream",
     "text": [
      "學生分數是:239.4\n"
     ]
    }
   ],
   "source": [
    "#學生總分為300\n",
    "scores = int(input(\"請輸入學生分數(最高分300分):\"))\n",
    "#有些學生可以加分5%\n",
    "is_add = input(\"學生是否符合加分條件? (Y,N)\")\n",
    "\n",
    "#如果加分後超過300分，就以300分計算。\n",
    "#巢狀判斷: if內還有if; 可以增加判斷條件\n",
    "if is_add ==\"Y\":\n",
    "    scores *= 1.05\n",
    "    if scores >= 300:\n",
    "        scores =300\n",
    "#不用else，因為現在是單向選擇\n",
    "\n",
    "print(f\"學生分數是:{scores}\")"
   ]
  },
  {
   "cell_type": "code",
   "execution_count": 4,
   "metadata": {},
   "outputs": [
    {
     "name": "stdout",
     "output_type": "stream",
     "text": [
      "您輸入錯誤，總分不可以超過300分\n"
     ]
    }
   ],
   "source": [
    "#學生總分為300\n",
    "\n",
    "scores = int(input(\"請輸入學生分數(最高分300分):\"))\n",
    "\n",
    "#輸入超過300分則要出現警告\n",
    "if scores <= 300:\n",
    "    #有些學生可以加分5%\n",
    "    is_add = input(\"學生是否符合加分條件? (Y,N)\")\n",
    "    #如果加分後超過300分，就以300分計算。\n",
    "    #巢狀判斷: if內還有if; 可以增加判斷條件，最主要在解決多個條件。\n",
    "    #不用else，因為現在是單向選擇\n",
    "    if is_add ==\"Y\":\n",
    "        scores *= 1.05\n",
    "        if scores >= 300:\n",
    "            scores =300\n",
    "    print(f\"學生分數是:{scores}\")\n",
    "else:\n",
    "    print(\"您輸入錯誤，總分不可以超過300分\")\n",
    "\n"
   ]
  },
  {
   "cell_type": "code",
   "execution_count": 10,
   "metadata": {},
   "outputs": [
    {
     "name": "stdout",
     "output_type": "stream",
     "text": [
      "100\n"
     ]
    }
   ],
   "source": [
    "#Raise錯誤的 用try except\n",
    "try:\n",
    "    money = int(input(\"請輸入金額:\"))\n",
    "    print(money)\n",
    "except ValueError: #限定輸入值的錯誤才提醒\n",
    "    print(\"輸入錯誤，僅能輸入數字，不含小數點\")"
   ]
  },
  {
   "cell_type": "code",
   "execution_count": null,
   "metadata": {},
   "outputs": [],
   "source": [
    "#Raise錯誤的 用try except\n",
    "try:\n",
    "    money = int(input(\"請輸入金額:\"))\n",
    "    print(money)\n",
    "except: #只要有錯誤都提醒\n",
    "    print(\"輸入錯誤，僅能輸入數字，不含小數點\")"
   ]
  },
  {
   "cell_type": "code",
   "execution_count": null,
   "metadata": {},
   "outputs": [],
   "source": [
    "#在這個情境中，我們將模擬一個溫度評估系統。\n",
    "#你需要創建一個函數，該函數接受一個溫度值作為參數，然後根據溫度值返回相應的評估。\n",
    "temp = int(input(\"請輸入現在氣溫:\"))\n",
    "if "
   ]
  }
 ],
 "metadata": {
  "kernelspec": {
   "display_name": "Python 3",
   "language": "python",
   "name": "python3"
  },
  "language_info": {
   "codemirror_mode": {
    "name": "ipython",
    "version": 3
   },
   "file_extension": ".py",
   "mimetype": "text/x-python",
   "name": "python",
   "nbconvert_exporter": "python",
   "pygments_lexer": "ipython3",
   "version": "3.10.13"
  }
 },
 "nbformat": 4,
 "nbformat_minor": 2
}
