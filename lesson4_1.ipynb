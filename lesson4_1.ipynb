{
 "cells": [
  {
   "cell_type": "code",
   "execution_count": 1,
   "metadata": {},
   "outputs": [
    {
     "name": "stdout",
     "output_type": "stream",
     "text": [
      "學生分數是:105.0\n"
     ]
    }
   ],
   "source": [
    "#學生總分為300\n",
    "scores = int(input(\"請輸入學生分數(最高分300分):\"))\n",
    "#有些學生可以加分5%\n",
    "is_add = input(\"學生是否符合加分條件? (Y,N)\")\n",
    "if is_add ==\"Y\":\n",
    "    scores *= 1.05\n",
    "#不用else，因為現在是單向選擇\n",
    "print(f\"學生分數是:{scores}\")"
   ]
  },
  {
   "cell_type": "code",
   "execution_count": 3,
   "metadata": {},
   "outputs": [
    {
     "name": "stdout",
     "output_type": "stream",
     "text": [
      "學生分數是:239.4\n"
     ]
    }
   ],
   "source": [
    "#學生總分為300\n",
    "scores = int(input(\"請輸入學生分數(最高分300分):\"))\n",
    "#有些學生可以加分5%\n",
    "is_add = input(\"學生是否符合加分條件? (Y,N)\")\n",
    "\n",
    "#如果加分後超過300分，就以300分計算。\n",
    "#巢狀判斷: if內還有if; 可以增加判斷條件\n",
    "if is_add ==\"Y\":\n",
    "    scores *= 1.05\n",
    "    if scores >= 300:\n",
    "        scores =300\n",
    "#不用else，因為現在是單向選擇\n",
    "\n",
    "print(f\"學生分數是:{scores}\")"
   ]
  },
  {
   "cell_type": "code",
   "execution_count": 4,
   "metadata": {},
   "outputs": [
    {
     "name": "stdout",
     "output_type": "stream",
     "text": [
      "您輸入錯誤，總分不可以超過300分\n"
     ]
    }
   ],
   "source": [
    "#學生總分為300\n",
    "\n",
    "scores = int(input(\"請輸入學生分數(最高分300分):\"))\n",
    "\n",
    "#輸入超過300分則要出現警告\n",
    "if scores <= 300:\n",
    "    #有些學生可以加分5%\n",
    "    is_add = input(\"學生是否符合加分條件? (Y,N)\")\n",
    "    #如果加分後超過300分，就以300分計算。\n",
    "    #巢狀判斷: if內還有if; 可以增加判斷條件\n",
    "    #不用else，因為現在是單向選擇\n",
    "    if is_add ==\"Y\":\n",
    "        scores *= 1.05\n",
    "        if scores >= 300:\n",
    "            scores =300\n",
    "    print(f\"學生分數是:{scores}\")\n",
    "else:\n",
    "    print(\"您輸入錯誤，總分不可以超過300分\")\n",
    "\n"
   ]
  }
 ],
 "metadata": {
  "kernelspec": {
   "display_name": "Python 3",
   "language": "python",
   "name": "python3"
  },
  "language_info": {
   "codemirror_mode": {
    "name": "ipython",
    "version": 3
   },
   "file_extension": ".py",
   "mimetype": "text/x-python",
   "name": "python",
   "nbconvert_exporter": "python",
   "pygments_lexer": "ipython3",
   "version": "3.10.13"
  }
 },
 "nbformat": 4,
 "nbformat_minor": 2
}
