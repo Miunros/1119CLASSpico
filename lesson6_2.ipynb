{
 "cells": [
  {
   "cell_type": "code",
   "execution_count": 4,
   "metadata": {},
   "outputs": [
    {
     "data": {
      "text/plain": [
       "91"
      ]
     },
     "execution_count": 4,
     "metadata": {},
     "output_type": "execute_result"
    }
   ],
   "source": [
    "import random\n",
    "import pyinputplus as pyip\n",
    "min = 1\n",
    "max = 100\n",
    "count = 0\n",
    "randomNum = random.randint(min, max)\n",
    "print(\"***********終極密碼***********\")\n",
    "while True:\n",
    "    keyin = pyip.inputInt(f\"請猜數字，範圍是{min}~{msx}:\", min=min, max=max)\n",
    "    count +=1\n",
    "    if (keyin == randomNum):\n",
    "        print(\"恭喜你賓果!!!!\")\n",
    "        print(f\"您猜了:{count}\")\n",
    "    elif (keyin < randomNum):\n",
    "        print(\"再大一點!!!\")\n",
    "    elif (keyin > randomNum):\n",
    "        print(\"再小一點!!!\")"
   ]
  }
 ],
 "metadata": {
  "kernelspec": {
   "display_name": "Python 3",
   "language": "python",
   "name": "python3"
  },
  "language_info": {
   "codemirror_mode": {
    "name": "ipython",
    "version": 3
   },
   "file_extension": ".py",
   "mimetype": "text/x-python",
   "name": "python",
   "nbconvert_exporter": "python",
   "pygments_lexer": "ipython3",
   "version": "3.10.13"
  }
 },
 "nbformat": 4,
 "nbformat_minor": 2
}
