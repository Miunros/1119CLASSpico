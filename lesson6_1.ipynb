{
 "cells": [
  {
   "cell_type": "code",
   "execution_count": 4,
   "metadata": {},
   "outputs": [
    {
     "data": {
      "text/plain": [
       "0"
      ]
     },
     "execution_count": 4,
     "metadata": {},
     "output_type": "execute_result"
    }
   ],
   "source": [
    "\n",
    "#while迴圈明確知道執行的次數\n",
    "value = 0\n",
    "i = 21\n",
    "while i<=20:\n",
    "    value += i\n",
    "    i += 1\n",
    "value"
   ]
  },
  {
   "cell_type": "code",
   "execution_count": 10,
   "metadata": {},
   "outputs": [
    {
     "name": "stdout",
     "output_type": "stream",
     "text": [
      "請輸入第1月份存款金額：NT$5000\n",
      "請輸入第2月份存款金額：NT$4000\n",
      "請輸入第3月份存款金額：NT$8855\n",
      "請輸入第4月份存款金額：NT$Blank values are not allowed.\n",
      "請輸入第4月份存款金額：NT$5555\n",
      "請輸入第5月份存款金額：NT$8\n",
      "請輸入第6月份存款金額：NT$6892\n",
      "恭喜您已經存到目標金額，共存了6個月，總存款：NT$30310\n"
     ]
    }
   ],
   "source": [
    "#小明想要存款買機車，機車總價3萬元；他將每月存款輸入，當存款足夠買機車時就顯示訊息告知。\n",
    "#不知道執行次數\n",
    "import pyinputplus as pyip\n",
    "\n",
    "period=0\n",
    "start_money = 0\n",
    "while(start_money < 30000):\n",
    "    period +=1\n",
    "    month_money = pyip.inputInt(f\"請輸入第{period}月份存款金額：NT$\")\n",
    "    print(month_money)\n",
    "    start_money += month_money\n",
    "print(f\"恭喜您已經存到目標金額，共存了{period}個月，總存款：NT${start_money}\")    "
   ]
  },
  {
   "cell_type": "code",
   "execution_count": 22,
   "metadata": {},
   "outputs": [
    {
     "name": "stdout",
     "output_type": "stream",
     "text": [
      "請輸入學生成績:100\n",
      "請輸入學生成績:Number must be at maximum 100.\n",
      "請輸入學生成績:Number must be at maximum 100.\n",
      "請輸入學生成績:100\n",
      "請輸入學生成績:85\n",
      "請輸入學生成績:-1\n",
      "負數分數不列入計算\n",
      "學生總分為:285，學生平均為95.0\n"
     ]
    }
   ],
   "source": [
    "#小美是一位教師，請你以while迴圈方式為小美設計一個輸入成績的程式，如果輸入負數表示成績輸入結束，在輸入成績結束後顯示班上總成績及平均成績。\n",
    "\n",
    "sum = 0\n",
    "num = 0\n",
    "while(True):    \n",
    "    inputValue = pyip.inputInt(\"請輸入學生成績:\", max=100)\n",
    "    print(inputValue)\n",
    "    if inputValue <0:\n",
    "        print(\"負數分數不列入計算\")\n",
    "        break\n",
    "    num+=1\n",
    "    sum += inputValue\n",
    "\n",
    "print(f\"學生總分為:{sum}，學生平均為{sum/num}\")"
   ]
  },
  {
   "cell_type": "code",
   "execution_count": 50,
   "metadata": {},
   "outputs": [
    {
     "name": "stdout",
     "output_type": "stream",
     "text": [
      "輸入錯誤!請重新輸入!!\n",
      "輸入錯誤!請重新輸入!!\n",
      "輸入錯誤!請重新輸入!!\n",
      "輸入錯誤!請重新輸入!!\n",
      "5的平方是25\n",
      "請輸入奇數計算次方\n",
      "應用程式結束\n"
     ]
    }
   ],
   "source": [
    "while(True):\n",
    "    inputValue = input(\"請輸整數,輸入[q離開]:\")\n",
    "    if inputValue == \"q\":\n",
    "        break\n",
    "    try:\n",
    "        valueInt=int(inputValue)\n",
    "    except:\n",
    "        print(\"輸入錯誤!請重新輸入!!\")\n",
    "        continue\n",
    "    if (valueInt %2) == 0:\n",
    "        print(\"請輸入奇數計算次方\")\n",
    "    else:\n",
    "        print(f\"{valueInt}的平方是{valueInt ** 2}\")\n",
    "print(\"應用程式結束\")"
   ]
  }
 ],
 "metadata": {
  "kernelspec": {
   "display_name": "Python 3",
   "language": "python",
   "name": "python3"
  },
  "language_info": {
   "codemirror_mode": {
    "name": "ipython",
    "version": 3
   },
   "file_extension": ".py",
   "mimetype": "text/x-python",
   "name": "python",
   "nbconvert_exporter": "python",
   "pygments_lexer": "ipython3",
   "version": "3.10.13"
  }
 },
 "nbformat": 4,
 "nbformat_minor": 2
}
