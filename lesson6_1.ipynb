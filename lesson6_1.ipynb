{
 "cells": [
  {
   "cell_type": "code",
   "execution_count": 4,
   "metadata": {},
   "outputs": [
    {
     "data": {
      "text/plain": [
       "0"
      ]
     },
     "execution_count": 4,
     "metadata": {},
     "output_type": "execute_result"
    }
   ],
   "source": [
    "\n",
    "#while迴圈明確知道執行的次數\n",
    "value = 0\n",
    "i = 21\n",
    "while i<=20:\n",
    "    value += i\n",
    "    i += 1\n",
    "value"
   ]
  },
  {
   "cell_type": "code",
   "execution_count": 10,
   "metadata": {},
   "outputs": [
    {
     "name": "stdout",
     "output_type": "stream",
     "text": [
      "請輸入第1月份存款金額：NT$5000\n",
      "請輸入第2月份存款金額：NT$4000\n",
      "請輸入第3月份存款金額：NT$8855\n",
      "請輸入第4月份存款金額：NT$Blank values are not allowed.\n",
      "請輸入第4月份存款金額：NT$5555\n",
      "請輸入第5月份存款金額：NT$8\n",
      "請輸入第6月份存款金額：NT$6892\n",
      "恭喜您已經存到目標金額，共存了6個月，總存款：NT$30310\n"
     ]
    }
   ],
   "source": [
    "#小明想要存款買機車，機車總價3萬元；他將每月存款輸入，當存款足夠買機車時就顯示訊息告知。\n",
    "#不知道執行次數\n",
    "import pyinputplus as pyip\n",
    "\n",
    "period=0\n",
    "start_money = 0\n",
    "while(start_money < 30000):\n",
    "    period +=1\n",
    "    month_money = pyip.inputInt(f\"請輸入第{period}月份存款金額：NT$\")\n",
    "    print(month_money)\n",
    "    start_money += month_money\n",
    "print(f\"恭喜您已經存到目標金額，共存了{period}個月，總存款：NT${start_money}\")    "
   ]
  }
 ],
 "metadata": {
  "kernelspec": {
   "display_name": "Python 3",
   "language": "python",
   "name": "python3"
  },
  "language_info": {
   "codemirror_mode": {
    "name": "ipython",
    "version": 3
   },
   "file_extension": ".py",
   "mimetype": "text/x-python",
   "name": "python",
   "nbconvert_exporter": "python",
   "pygments_lexer": "ipython3",
   "version": "3.10.13"
  }
 },
 "nbformat": 4,
 "nbformat_minor": 2
}
