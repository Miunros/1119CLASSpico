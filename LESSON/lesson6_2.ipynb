{
 "cells": [
  {
   "cell_type": "code",
   "execution_count": 1,
   "metadata": {},
   "outputs": [
    {
     "name": "stdout",
     "output_type": "stream",
     "text": [
      "***********終極密碼***********\n",
      "請猜數字，範圍是1~100:"
     ]
    },
    {
     "name": "stdout",
     "output_type": "stream",
     "text": [
      "55\n",
      "再大一點!!!\n",
      "您已經猜了1次\n",
      "請猜數字，範圍是56~100:79\n",
      "再小一點!!!\n",
      "您已經猜了2次\n",
      "請猜數字，範圍是56~78:70\n",
      "再小一點!!!\n",
      "您已經猜了3次\n",
      "請猜數字，範圍是56~69:59\n",
      "再大一點!!!\n",
      "您已經猜了4次\n",
      "請猜數字，範圍是60~69:'65]' is not an integer.\n",
      "請猜數字，範圍是60~69:65\n",
      "再大一點!!!\n",
      "您已經猜了5次\n",
      "請猜數字，範圍是66~69:66\n",
      "再大一點!!!\n",
      "您已經猜了6次\n",
      "請猜數字，範圍是67~69:68\n",
      "再大一點!!!\n",
      "您已經猜了7次\n",
      "請猜數字，範圍是69~69:69\n",
      "恭喜你賓果!!!!答案是：69\n",
      "您猜了:8次\n",
      "遊戲結束!!!\n"
     ]
    }
   ],
   "source": [
    "import random\n",
    "import pyinputplus as pyip\n",
    "min = 1\n",
    "max = 100\n",
    "count = 0\n",
    "randomNum = random.randint(min, max)\n",
    "print(\"***********終極密碼***********\")\n",
    "while True:\n",
    "    keyin = pyip.inputInt(f\"請猜數字，範圍是{min}~{max}:\", min=min, max=max)\n",
    "    print(keyin)\n",
    "    count +=1\n",
    "    if (keyin == randomNum):\n",
    "        print(f\"恭喜你賓果!!!!答案是：{randomNum}\")\n",
    "        print(f\"您猜了:{count}次\")\n",
    "        break\n",
    "    elif (keyin < randomNum):\n",
    "        print(\"再大一點!!!\")\n",
    "        min = keyin+1\n",
    "    elif (keyin > randomNum):\n",
    "        print(\"再小一點!!!\")\n",
    "        max = keyin -1 \n",
    "    print(f\"您已經猜了{count}次\")\n",
    "\n",
    "print(\"遊戲結束!!!\")"
   ]
  }
 ],
 "metadata": {
  "kernelspec": {
   "display_name": "Python 3",
   "language": "python",
   "name": "python3"
  },
  "language_info": {
   "codemirror_mode": {
    "name": "ipython",
    "version": 3
   },
   "file_extension": ".py",
   "mimetype": "text/x-python",
   "name": "python",
   "nbconvert_exporter": "python",
   "pygments_lexer": "ipython3",
   "version": "3.10.13"
  }
 },
 "nbformat": 4,
 "nbformat_minor": 2
}
