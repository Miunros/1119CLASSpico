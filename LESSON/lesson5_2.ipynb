{
 "cells": [
  {
   "cell_type": "code",
   "execution_count": 1,
   "metadata": {},
   "outputs": [
    {
     "name": "stdout",
     "output_type": "stream",
     "text": [
      "請問是否加分?輸入(y or n):yes\n",
      "可以加分\n"
     ]
    }
   ],
   "source": [
    "import pyinputplus as pyip\n",
    "\n",
    "is_yes = pyip.inputYesNo(\"請問是否加分?輸入(y or n):\")\n",
    "print(is_yes)\n",
    "if is_yes == \"yes\":\n",
    "    print(\"可以加分\")\n",
    "else:\n",
    "    print(\"不可以加分\")\n"
   ]
  },
  {
   "cell_type": "code",
   "execution_count": 2,
   "metadata": {},
   "outputs": [
    {
     "name": "stdout",
     "output_type": "stream",
     "text": [
      "請問是否加分?輸入(y or n):no\n",
      "不可以加分\n"
     ]
    }
   ],
   "source": [
    "import pyinputplus as pyip\n",
    "\n",
    "is_yes = pyip.inputYesNo(\"請問是否加分?輸入(y or n):\")\n",
    "print(is_yes)\n",
    "if not is_yes == \"yes\":\n",
    "    print(\"不可以加分\")\n",
    "else:\n",
    "    print(\"可以加分\")\n"
   ]
  },
  {
   "cell_type": "code",
   "execution_count": 19,
   "metadata": {},
   "outputs": [
    {
     "name": "stdout",
     "output_type": "stream",
     "text": [
      "請輸入國文分數:12\n",
      "請輸入數學分數:50\n",
      "取得獎金:0\n"
     ]
    }
   ],
   "source": [
    "import pyinputplus as pyip\n",
    "chinese = pyip.inputInt(\"請輸入國文分數:\", min=0, max=100)\n",
    "print(chinese)\n",
    "math = pyip.inputInt(\"請輸入數學分數:\", min=0, max=100)\n",
    "print(math)\n",
    "bonus = 0\n",
    "if chinese == 100:\n",
    "    if math == 100:\n",
    "        bonus = 1000\n",
    "    else:\n",
    "        bonus = 500\n",
    "elif math == 100:\n",
    "    bonus = 500\n",
    "print(f\"取得獎金:{bonus}\")"
   ]
  },
  {
   "cell_type": "code",
   "execution_count": 25,
   "metadata": {},
   "outputs": [
    {
     "name": "stdout",
     "output_type": "stream",
     "text": [
      "請輸入國文分數:99\n",
      "請輸入數學分數:99\n",
      "取得獎金:0\n"
     ]
    }
   ],
   "source": [
    "import pyinputplus as pyip\n",
    "chinese = pyip.inputInt(\"請輸入國文分數:\", min=0, max=100)\n",
    "print(chinese)\n",
    "math = pyip.inputInt(\"請輸入數學分數:\", min=0, max=100)\n",
    "print(math)\n",
    "bonus = 0\n",
    "if chinese == 100 and math == 100:\n",
    "        bonus = 1000\n",
    "elif math == 100 or chinese == 100:\n",
    "    bonus = 500\n",
    "print(f\"取得獎金:{bonus}\")"
   ]
  },
  {
   "cell_type": "code",
   "execution_count": 7,
   "metadata": {},
   "outputs": [
    {
     "name": "stdout",
     "output_type": "stream",
     "text": [
      "請輸入收縮壓數據:135\n",
      "請輸入舒張壓數據:75\n",
      "您的測量結果是高血壓一期\n"
     ]
    }
   ],
   "source": [
    "import pyinputplus as pyip\n",
    "sbp = pyip.inputInt(\"請輸入收縮壓數據:\", min=0)\n",
    "print(sbp)\n",
    "dbp = pyip.inputInt(\"請輸入舒張壓數據:\", min=0)\n",
    "print(dbp)\n",
    "if sbp <120 and dbp <80:\n",
    "    suggestion = \"血壓正常\"\n",
    "elif 120 <= sbp<130 and dbp<80:\n",
    "    suggestion = \"血壓升高\"\n",
    "elif 130<= sbp<140 or 80<=dbp<90:\n",
    "    suggestion = \"高血壓一期\"\n",
    "elif sbp>=140 or dbp >=90:\n",
    "    suggestion=\"高血壓二期\"\n",
    "elif sbp>=130 and dpb<80:\n",
    "    suggestion =\"單純收縮期，高血壓\"\n",
    "print (f\"您的測量結果是{suggestion}\")"
   ]
  },
  {
   "cell_type": "code",
   "execution_count": 10,
   "metadata": {},
   "outputs": [
    {
     "name": "stdout",
     "output_type": "stream",
     "text": [
      "血壓計量表\n",
      "請輸入收縮壓數值:135\n",
      "請輸入舒張壓數值:75\n",
      "高血壓一期\n"
     ]
    }
   ],
   "source": [
    "print(\"血壓計量表\")\n",
    "SBP = pyip.inputInt(\"請輸入收縮壓數值:\")\n",
    "print(SBP)\n",
    "DBP = pyip.inputInt(\"請輸入舒張壓數值:\")\n",
    "print(DBP)\n",
    "\n",
    "if SBP < 120 and DBP < 80:\n",
    "    print (\"血壓正常\")\n",
    "elif (120 <= SBP < 130) and DBP < 80:\n",
    "    print (\"血壓升高\")\n",
    "elif (130 <= SBP < 140) or (80 <= DBP < 90):\n",
    "    print (\"高血壓一期\")\n",
    "elif SBP >= 140 or DBP >= 90:\n",
    "    print (\"高血壓第二期\")\n",
    "elif SBP >= 130 and DBP < 80:\n",
    "    print (\"單純收縮期高血壓\")"
   ]
  }
 ],
 "metadata": {
  "kernelspec": {
   "display_name": "Python 3",
   "language": "python",
   "name": "python3"
  },
  "language_info": {
   "codemirror_mode": {
    "name": "ipython",
    "version": 3
   },
   "file_extension": ".py",
   "mimetype": "text/x-python",
   "name": "python",
   "nbconvert_exporter": "python",
   "pygments_lexer": "ipython3",
   "version": "2.7.0"
  }
 },
 "nbformat": 4,
 "nbformat_minor": 2
}
