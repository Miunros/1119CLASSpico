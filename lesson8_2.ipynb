{
 "cells": [
  {
   "cell_type": "code",
   "execution_count": null,
   "metadata": {},
   "outputs": [],
   "source": [
    "#建立一個function\n",
    "def sayHello():\n",
    "    print(\"Hello! Python!\")\n",
    "\n",
    "sayHello()\n",
    "sayHello()\n",
    "sayHello()"
   ]
  },
  {
   "cell_type": "code",
   "execution_count": 8,
   "metadata": {},
   "outputs": [
    {
     "name": "stdout",
     "output_type": "stream",
     "text": [
      "Hello!許乃心\n",
      "Hello!施怡如\n",
      "Hello!許乃文\n"
     ]
    }
   ],
   "source": [
    "def sayHello(name):\n",
    "    #上面的name只能在這個區塊使用\n",
    "    print(f'Hello!{name}')\n",
    "sayHello(\"許乃心\")\n",
    "sayHello(\"施怡如\")\n",
    "sayHello(\"許乃文\")"
   ]
  },
  {
   "cell_type": "code",
   "execution_count": 9,
   "metadata": {},
   "outputs": [
    {
     "name": "stdout",
     "output_type": "stream",
     "text": [
      "Hello!許乃心\n",
      "Hello!施怡如\n",
      "Hello!許乃文\n"
     ]
    }
   ],
   "source": [
    "def sayHello(name):\n",
    "    username=name\n",
    "    print(f'Hello!{username}')\n",
    "sayHello(\"許乃心\")\n",
    "sayHello(\"施怡如\")\n",
    "sayHello(\"許乃文\")"
   ]
  },
  {
   "cell_type": "code",
   "execution_count": 18,
   "metadata": {},
   "outputs": [
    {
     "name": "stdout",
     "output_type": "stream",
     "text": [
      "Hello!青少年:許乃心\n",
      "Hello!中年:張三\n",
      "Hello!老年:李四\n"
     ]
    }
   ],
   "source": [
    "def sayHello(name,age):\n",
    "    if age<18:\n",
    "        young = \"青少年\"\n",
    "    elif age<30:\n",
    "        young=\"中年\"\n",
    "    elif age<50:\n",
    "        young=\"壯年\"\n",
    "    else:\n",
    "        young=\"老年\"\n",
    "    print(f'Hello!{young}:{name}')\n",
    "#以上為定義function; 以下為呼叫function\n",
    "sayHello(\"許乃心\",17)\n",
    "sayHello(\"張三\",28)\n",
    "sayHello(\"李四\",54)"
   ]
  },
  {
   "cell_type": "code",
   "execution_count": 19,
   "metadata": {},
   "outputs": [
    {
     "name": "stdout",
     "output_type": "stream",
     "text": [
      "Hello!青少年:許乃心\n"
     ]
    }
   ],
   "source": [
    "def sayHello(name,age):\n",
    "    if age<18:\n",
    "        young = \"青少年\"\n",
    "    elif age<30:\n",
    "        young=\"中年\"\n",
    "    elif age<50:\n",
    "        young=\"壯年\"\n",
    "    else:\n",
    "        young=\"老年\"\n",
    "    print(f'Hello!{young}:{name}')\n",
    "#以上為定義function; 以下為呼叫function\n",
    "#引數名稱的呼叫可以不依順序\n",
    "sayHello(age=17, name=\"許乃心\")\n"
   ]
  },
  {
   "cell_type": "code",
   "execution_count": 20,
   "metadata": {},
   "outputs": [
    {
     "name": "stdout",
     "output_type": "stream",
     "text": [
      "Hello!中年:張三\n",
      "Hello!老年:李四\n"
     ]
    }
   ],
   "source": [
    "#混合呼叫\n",
    "#引數值呼叫在前面，引數名稱在後面\n",
    "#使用引數名稱後，後面全部要用引數名稱呼叫\n",
    "sayHello(\"張三\",age=28)\n",
    "sayHello(\"李四\",age=54)"
   ]
  }
 ],
 "metadata": {
  "kernelspec": {
   "display_name": "Python 3",
   "language": "python",
   "name": "python3"
  },
  "language_info": {
   "codemirror_mode": {
    "name": "ipython",
    "version": 3
   },
   "file_extension": ".py",
   "mimetype": "text/x-python",
   "name": "python",
   "nbconvert_exporter": "python",
   "pygments_lexer": "ipython3",
   "version": "3.10.13"
  }
 },
 "nbformat": 4,
 "nbformat_minor": 2
}
